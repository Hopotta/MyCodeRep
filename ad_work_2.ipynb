{
 "cells": [
  {
   "cell_type": "markdown",
   "id": "5b0fe57e",
   "metadata": {},
   "source": [
    "##### CAUTION: Completing and submitting the assignment constitutes your commitment to complete the assignment independently and not to plagiarize or provide others with the opportunity to plagiarize.\n",
    "\n",
    "Before you turn this problem in, make sure everything runs as expected. First, **restart the kernel** (in the menubar, select Kernel$\\rightarrow$Restart) and then **run all cells** (in the menubar, select Cell$\\rightarrow$Run All).\n",
    "\n",
    "Make sure you fill in any place that says `YOUR CODE HERE` or \"YOUR ANSWER HERE\", as well as your name and collaborators below:"
   ]
  },
  {
   "cell_type": "code",
   "execution_count": null,
   "id": "c2e8ee12",
   "metadata": {},
   "outputs": [],
   "source": [
    "NAME = \"郭子涵\"\n",
    "COLLABORATORS = \"0921201\""
   ]
  },
  {
   "cell_type": "markdown",
   "id": "823ae55d",
   "metadata": {},
   "source": [
    "---"
   ]
  },
  {
   "cell_type": "markdown",
   "id": "455bfc5d",
   "metadata": {
    "deletable": false,
    "editable": false,
    "nbgrader": {
     "cell_type": "markdown",
     "checksum": "31d137612cf8346b97eefb8dac1fbce4",
     "grade": false,
     "grade_id": "cell-fafcad467ba98e3a",
     "locked": true,
     "schema_version": 3,
     "solution": false,
     "task": false
    }
   },
   "source": [
    "#### Problem 1: 线性检索与二分检索 (40 points)\n",
    " (1) 随机生成含有若干个非负整数元素的数组， 任意设置一个值，线性检索其是否在数组中。有就输出其位置，没有就输出-1; \n",
    " \n",
    " (2) 假设数组有序，用二分检索算法完成该问题；\n",
    " \n",
    " (3) 将问题规模（即元素个数）由100分别改为300/500/1000/3000/5000/10000/30000/50000，记录两种算法下在数组有序情况下各自的运行时间，并画出两种算法运行时间随问题规模增长的曲线。"
   ]
  },
  {
   "cell_type": "markdown",
   "id": "5d0e5f0d",
   "metadata": {
    "deletable": false,
    "editable": false,
    "nbgrader": {
     "cell_type": "markdown",
     "checksum": "8cbc1e58cf0e6f3b7a906f6c733608ac",
     "grade": false,
     "grade_id": "cell-dc5fbf06e4839c2b",
     "locked": true,
     "schema_version": 3,
     "solution": false,
     "task": false
    }
   },
   "source": [
    "首先设计一个生成随机整数元素数组的函数。 (5 points)"
   ]
  },
  {
   "cell_type": "code",
   "execution_count": 1,
   "id": "38f8b80d",
   "metadata": {
    "deletable": false,
    "nbgrader": {
     "cell_type": "code",
     "checksum": "2ffab94777f0b6a35e7e7eba8fb2f417",
     "grade": false,
     "grade_id": "cell-d56db2b6577e42ce",
     "locked": false,
     "schema_version": 3,
     "solution": true,
     "task": false
    }
   },
   "outputs": [],
   "source": [
    "import random\n",
    "def generate_random_list(elements_number,upper_bound): #elements_number:元素个数; upper_bound:上界\n",
    "    random_list = []\n",
    "    # YOUR CODE HERE\n",
    "    for i in range(elements_number):\n",
    "        random_list.append(random.randint(0,upper_bound))\n",
    "    return random_list"
   ]
  },
  {
   "cell_type": "code",
   "execution_count": 2,
   "id": "2d819d29",
   "metadata": {
    "deletable": false,
    "editable": false,
    "nbgrader": {
     "cell_type": "code",
     "checksum": "c981e428e62b48cb0c02275ad48c5c83",
     "grade": true,
     "grade_id": "cell-2f586e928536e9c3",
     "locked": true,
     "points": 5,
     "schema_version": 3,
     "solution": false,
     "task": false
    }
   },
   "outputs": [],
   "source": [
    "# 测试 generate_random_list 函数\n",
    "my_list = generate_random_list(3,10)\n",
    "assert len(my_list) == 3 \n",
    "assert min(my_list) >=0 and max(my_list) <= 10\n"
   ]
  },
  {
   "cell_type": "markdown",
   "id": "c637acc7",
   "metadata": {
    "deletable": false,
    "editable": false,
    "nbgrader": {
     "cell_type": "markdown",
     "checksum": "3b3c7f6785f0fa56632f3c4775cdeee7",
     "grade": false,
     "grade_id": "cell-8deee1dc1994046f",
     "locked": true,
     "schema_version": 3,
     "solution": false,
     "task": false
    }
   },
   "source": [
    "设计线性检索函数。 (10 points)"
   ]
  },
  {
   "cell_type": "code",
   "execution_count": 3,
   "id": "12afaf87",
   "metadata": {
    "deletable": false,
    "nbgrader": {
     "cell_type": "code",
     "checksum": "c862bef8dda239037fe7b17cbf15a3cf",
     "grade": false,
     "grade_id": "cell-80e1684c1bc93854",
     "locked": false,
     "schema_version": 3,
     "solution": true,
     "task": false
    }
   },
   "outputs": [],
   "source": [
    "def linear_search(A,x): # A:整数数组; x:待查找的整数\n",
    "    j=-1\n",
    "    \n",
    "    # YOUR CODE HERE\n",
    "    for i in range(len(A)):\n",
    "        if A[i] == x:\n",
    "            j=i\n",
    "            break\n",
    "    \n",
    "    return j"
   ]
  },
  {
   "cell_type": "code",
   "execution_count": 4,
   "id": "6262f482",
   "metadata": {
    "deletable": false,
    "editable": false,
    "nbgrader": {
     "cell_type": "code",
     "checksum": "ca6e3cc5c9bc3d6da65ba5add0154748",
     "grade": true,
     "grade_id": "cell-fadd57aea094cf93",
     "locked": true,
     "points": 10,
     "schema_version": 3,
     "solution": false,
     "task": false
    }
   },
   "outputs": [],
   "source": [
    "# 测试 linearSearch 函数\n",
    "A = [4,3,1,2,6]\n",
    "assert linear_search(A,2) == 3\n"
   ]
  },
  {
   "cell_type": "markdown",
   "id": "522692bb",
   "metadata": {
    "deletable": false,
    "editable": false,
    "nbgrader": {
     "cell_type": "markdown",
     "checksum": "620bed5aaf2f6da1c52949f8414896fc",
     "grade": false,
     "grade_id": "cell-7a5ae88d16e26323",
     "locked": true,
     "schema_version": 3,
     "solution": false,
     "task": false
    }
   },
   "source": [
    "假设数组已经有序，设计二分检索函数。(10 points)"
   ]
  },
  {
   "cell_type": "code",
   "execution_count": 5,
   "id": "8e87b997",
   "metadata": {
    "deletable": false,
    "nbgrader": {
     "cell_type": "code",
     "checksum": "fea333b2725ce84a0682eb3a5b40902a",
     "grade": false,
     "grade_id": "cell-6a3bba7cf5461af8",
     "locked": false,
     "schema_version": 3,
     "solution": true,
     "task": false
    }
   },
   "outputs": [],
   "source": [
    "def binary_search(A,x): # A:整数数组; x:待查找的整数\n",
    "    j=-1\n",
    "    \n",
    "    # YOUR CODE HERE\n",
    "    low = 0\n",
    "    high = len(A)-1\n",
    "    while low <= high:\n",
    "        mid = (low+high)//2\n",
    "        if A[mid] == x:\n",
    "            j = mid\n",
    "            break\n",
    "        elif A[mid] < x:\n",
    "            low = mid+1\n",
    "        else:\n",
    "            high = mid-1\n",
    "\n",
    "    return j\n"
   ]
  },
  {
   "cell_type": "code",
   "execution_count": 6,
   "id": "c0d2c8cd",
   "metadata": {
    "deletable": false,
    "editable": false,
    "nbgrader": {
     "cell_type": "code",
     "checksum": "79375d46141770ce1fb932005e5944d9",
     "grade": true,
     "grade_id": "cell-f00faec4fd50fa2c",
     "locked": true,
     "points": 10,
     "schema_version": 3,
     "solution": false,
     "task": false
    }
   },
   "outputs": [],
   "source": [
    "# 测试 binary_search 函数\n",
    "A = [1,2,3,4,6]\n",
    "assert binary_search(A,2) == 1\n"
   ]
  },
  {
   "cell_type": "markdown",
   "id": "4b61802c",
   "metadata": {
    "deletable": false,
    "editable": false,
    "nbgrader": {
     "cell_type": "markdown",
     "checksum": "fd74c69037ef390709b75cfb4458da11",
     "grade": false,
     "grade_id": "cell-74a71e0022dfc38b",
     "locked": true,
     "schema_version": 3,
     "solution": false,
     "task": false
    }
   },
   "source": [
    "在不同的问题规模下对比两者效率并绘制图形。(15 points)"
   ]
  },
  {
   "cell_type": "code",
   "execution_count": 7,
   "id": "c6ff7c7f",
   "metadata": {
    "deletable": false,
    "nbgrader": {
     "cell_type": "code",
     "checksum": "dca80478ade4b61c6dc5f9e6f6fdd80f",
     "grade": false,
     "grade_id": "cell-a870b4fa4a520e39",
     "locked": false,
     "schema_version": 3,
     "solution": true,
     "task": false
    }
   },
   "outputs": [
    {
     "data": {
      "image/png": "[encoded data removed]",
      "text/plain": [
       "<Figure size 640x480 with 1 Axes>"
      ]
     },
     "metadata": {},
     "output_type": "display_data"
    }
   ],
   "source": [
    "import time #用以记录时间\n",
    "import matplotlib.pyplot as plt #用以绘图\n",
    "\n",
    "scales=[100,300,500,1000,3000,5000,10000,30000,50000] #不同的问题规模\n",
    "time_consumes_of_linear_search = [] #线性检索算法在不同问题规模下的时间耗费\n",
    "time_consumes_of_binary_search = [] #二分检索算法在不同问题规模下的时间耗费\n",
    "upper_bound = 50000 #元素上界\n",
    "x = random.randint(0,50000) #待查找整数\n",
    "A = [] #注意：生成的随机数组变量名必须为 A\n",
    "\n",
    "# YOUR CODE HERE\n",
    "for i in range(len(scales)):\n",
    "    A = generate_random_list(scales[i],upper_bound)\n",
    "    \n",
    "    start = time.time()\n",
    "    linear_search(A,x)\n",
    "    end = time.time()\n",
    "    time_consumes_of_linear_search.append(end-start)\n",
    "    \n",
    "    start = time.time()\n",
    "    binary_search(A,x)\n",
    "    end = time.time()\n",
    "    time_consumes_of_binary_search.append(end-start)\n",
    "\n",
    "plt.plot(scales, time_consumes_of_linear_search, 'b', label='LinearSearch')\n",
    "plt.plot(scales, time_consumes_of_binary_search, 'r', label='BinarySearch')\n",
    "plt.title('LinearSearch & BinarySearch')\n",
    "plt.xlabel('problem scale')\n",
    "plt.ylabel('time consume')\n",
    "plt.legend()\n",
    "plt.show()\n"
   ]
  },
  {
   "attachments": {
    "image.png": {
     "image/png": "[encoded data removed]"
    }
   },
   "cell_type": "markdown",
   "id": "d4c6637d",
   "metadata": {
    "deletable": false,
    "editable": false,
    "nbgrader": {
     "cell_type": "markdown",
     "checksum": "497baad7d23b2878cde76d0fdef83e16",
     "grade": false,
     "grade_id": "cell-c2f9002b80ca4687",
     "locked": true,
     "schema_version": 3,
     "solution": false,
     "task": false
    }
   },
   "source": [
    "可获得类似于下面的图像。\n",
    "![image.png](attachment:image.png)"
   ]
  },
  {
   "cell_type": "code",
   "execution_count": 10,
   "id": "544e45ae",
   "metadata": {
    "deletable": false,
    "editable": false,
    "nbgrader": {
     "cell_type": "code",
     "checksum": "c86c945aa4ec43f00086d6dd405cd8e2",
     "grade": true,
     "grade_id": "cell-b60b813080059931",
     "locked": true,
     "points": 15,
     "schema_version": 3,
     "solution": false,
     "task": false
    }
   },
   "outputs": [],
   "source": [
    "# 测试以上代码完成情况\n",
    "assert True != False #该行仅为标记，无需理会\n"
   ]
  },
  {
   "cell_type": "markdown",
   "id": "6ef4dc8c",
   "metadata": {
    "deletable": false,
    "editable": false,
    "nbgrader": {
     "cell_type": "markdown",
     "checksum": "bd46c0fd5ab1371870ff08aad69d5fbd",
     "grade": false,
     "grade_id": "cell-083d0a4698cc2b15",
     "locked": true,
     "schema_version": 3,
     "solution": false,
     "task": false
    }
   },
   "source": [
    "## Problem 2: 插入排序、改进版插入排序和合并排序 (60 points)\n",
    "（1）\t随机生成含有若干个非负整数元素的数组，设计插入排序算法对其排序；\n",
    "\n",
    "（2）\t对插入排序算法的“查找无序区首元素在有序区恰当位置”部分进行改进，以二分检索取代之前的线性检索，形成改进版插入排序；\n",
    "\n",
    "（3）\t实现合并排序算法，对该数据进行排序；\n",
    "\n",
    "（4）\t将问题规模（即元素个数）由100分别改为300/500/1000/3000/5000/10000/20000/30000，记录三种算法下各自的运行时间，并绘制三种算法运行时间随问题规模增长的曲线。\n"
   ]
  },
  {
   "cell_type": "markdown",
   "id": "a050a188",
   "metadata": {
    "deletable": false,
    "editable": false,
    "nbgrader": {
     "cell_type": "markdown",
     "checksum": "a5a4b1114d5cea544b369156c3e26503",
     "grade": false,
     "grade_id": "cell-21928c270697f239",
     "locked": true,
     "schema_version": 3,
     "solution": false,
     "task": false
    }
   },
   "source": [
    "设计插入排序算法。 (15 points)"
   ]
  },
  {
   "cell_type": "code",
   "execution_count": 8,
   "id": "f8205b81",
   "metadata": {
    "deletable": false,
    "nbgrader": {
     "cell_type": "code",
     "checksum": "c75bae118b9e7c8794d2c2bda4f4baba",
     "grade": false,
     "grade_id": "cell-d2d33994e8d8b817",
     "locked": false,
     "schema_version": 3,
     "solution": true,
     "task": false
    }
   },
   "outputs": [],
   "source": [
    "def insertion_sort(A):\n",
    "    k = -1 #注意：必须用 k 来标记每轮插入时无序区首元素在有序区中的适当位置\n",
    "    \n",
    "    # YOUR CODE HERE\n",
    "    for i in range(1,len(A)):\n",
    "        k = i-1\n",
    "        while k >= 0 and A[k] > A[k+1]:\n",
    "            A[k],A[k+1] = A[k+1],A[k]\n",
    "            k -= 1\n",
    "    \n",
    "    return k #返回值仅做测试用\n"
   ]
  },
  {
   "cell_type": "code",
   "execution_count": 9,
   "id": "e7525afa",
   "metadata": {
    "deletable": false,
    "editable": false,
    "nbgrader": {
     "cell_type": "code",
     "checksum": "587e4497de1a80705961095d29904a95",
     "grade": true,
     "grade_id": "cell-52ac43f1333fcc6a",
     "locked": true,
     "points": 15,
     "schema_version": 3,
     "solution": false,
     "task": false
    }
   },
   "outputs": [],
   "source": [
    "# 测试 insertion_sort 函数\n",
    "A = [1,3,2,6,4]\n",
    "insertion_sort(A)\n",
    "assert A == [1,2,3,4,6]\n"
   ]
  },
  {
   "attachments": {},
   "cell_type": "markdown",
   "id": "70411efd",
   "metadata": {
    "deletable": false,
    "editable": false,
    "nbgrader": {
     "cell_type": "markdown",
     "checksum": "90bee37868291cfaa7c11610163967d9",
     "grade": false,
     "grade_id": "cell-6233735d1b00167c",
     "locked": true,
     "schema_version": 3,
     "solution": false,
     "task": false
    }
   },
   "source": [
    "修改你上面完成的二分检索算法，使得x在A中不存在时不返回-1，而是返回其适当的插入位置。(10 points)"
   ]
  },
  {
   "cell_type": "code",
   "execution_count": 13,
   "id": "f9a0b250",
   "metadata": {
    "deletable": false,
    "nbgrader": {
     "cell_type": "code",
     "checksum": "88b15d329889b6faa396a8ffdd625c22",
     "grade": false,
     "grade_id": "cell-7c3f3b7a0ab30664",
     "locked": false,
     "schema_version": 3,
     "solution": true,
     "task": false
    }
   },
   "outputs": [],
   "source": [
    "def mod_binary_search(A,x): # A:整数数组; x:待查找的整数\n",
    "    j=-1\n",
    "    \n",
    "    # YOUR CODE HERE\n",
    "    low = 0\n",
    "    high = len(A)-1\n",
    "    while low <= high:\n",
    "        mid = (low+high)//2\n",
    "        if A[mid] == x:\n",
    "            j = mid\n",
    "            break\n",
    "        elif A[mid] < x:\n",
    "            low = mid+1\n",
    "        else:\n",
    "            high = mid-1\n",
    "    if j == -1:\n",
    "        j = low\n",
    "\n",
    "    return j"
   ]
  },
  {
   "cell_type": "code",
   "execution_count": 14,
   "id": "5f6f7f81",
   "metadata": {
    "deletable": false,
    "editable": false,
    "nbgrader": {
     "cell_type": "code",
     "checksum": "5818bb311eaaf5fe85716a106975e4f8",
     "grade": true,
     "grade_id": "cell-74d294129c64d3f1",
     "locked": true,
     "points": 10,
     "schema_version": 3,
     "solution": false,
     "task": false
    }
   },
   "outputs": [],
   "source": [
    "# 测试 mod_binary_search 函数\n",
    "A = [1,2,3,4,6]\n",
    "assert mod_binary_search(A,2) == 1\n",
    "assert mod_binary_search(A,5) != -1\n"
   ]
  },
  {
   "cell_type": "markdown",
   "id": "df0ca8ea",
   "metadata": {
    "deletable": false,
    "editable": false,
    "nbgrader": {
     "cell_type": "markdown",
     "checksum": "de53c2d5bbacc1773c924c4dbe943ba4",
     "grade": false,
     "grade_id": "cell-a579d0b757928f57",
     "locked": true,
     "schema_version": 3,
     "solution": false,
     "task": false
    }
   },
   "source": [
    "对上面的插入排序进行修改，在“查找无序区首元素在有序区恰当位置”时调用 mod_binary_search 函数。 (5 points)"
   ]
  },
  {
   "cell_type": "code",
   "execution_count": 15,
   "id": "9ecd4126",
   "metadata": {
    "deletable": false,
    "nbgrader": {
     "cell_type": "code",
     "checksum": "024445ca718861e1b82a3c1f7d8938da",
     "grade": false,
     "grade_id": "cell-7e4b423e2d2e9eac",
     "locked": false,
     "schema_version": 3,
     "solution": true,
     "task": false
    }
   },
   "outputs": [],
   "source": [
    "def mod_insertion_sort(A):\n",
    "    k = -1 #注意：必须用 k 来标记每轮插入时无序区首元素在有序区中的适当位置\n",
    "    \n",
    "    # YOUR CODE HERE\n",
    "    for i in range(1,len(A)):\n",
    "        k = mod_binary_search(A[:i],A[i])\n",
    "        if k == -1:\n",
    "            k = i-1\n",
    "        while k >= 0 and A[k] > A[i]:\n",
    "            A[k],A[i] = A[i],A[k]\n",
    "            k -= 1\n",
    "    \n",
    "        k=mod_binary_search(A[:i],x)\n",
    "\n",
    "    # YOUR CODE HERE\n",
    "    \n",
    "    \n",
    "    return k #返回值仅用于测试"
   ]
  },
  {
   "cell_type": "code",
   "execution_count": 16,
   "id": "15868d0a",
   "metadata": {
    "deletable": false,
    "editable": false,
    "nbgrader": {
     "cell_type": "code",
     "checksum": "bd796d1cdb9453dd574ca846b9d7754e",
     "grade": true,
     "grade_id": "cell-e89aa1f9ac9994ad",
     "locked": true,
     "points": 5,
     "schema_version": 3,
     "solution": false,
     "task": false
    }
   },
   "outputs": [],
   "source": [
    "# 测试 mod_insertion_sort 函数\n",
    "A = [1,3,2,6,4]\n",
    "mod_insertion_sort(A)\n",
    "assert A == [1,2,3,4,6]\n"
   ]
  },
  {
   "attachments": {},
   "cell_type": "markdown",
   "id": "800d0436",
   "metadata": {
    "deletable": false,
    "editable": false,
    "nbgrader": {
     "cell_type": "markdown",
     "checksum": "40bdd290f3208f1d33cbad5e59710237",
     "grade": false,
     "grade_id": "cell-02714c2aa83f7385",
     "locked": true,
     "schema_version": 3,
     "solution": false,
     "task": false
    }
   },
   "source": [
    "实现合并排序算法。 (15 points)"
   ]
  },
  {
   "cell_type": "code",
   "execution_count": 19,
   "id": "63a1a94c",
   "metadata": {
    "deletable": false,
    "nbgrader": {
     "cell_type": "code",
     "checksum": "200c5776a6bb10e7b3a24b12923f02c0",
     "grade": false,
     "grade_id": "cell-1e2ae629690e12d2",
     "locked": false,
     "schema_version": 3,
     "solution": true,
     "task": false
    }
   },
   "outputs": [],
   "source": [
    "def merge(A,p,q,r):\n",
    "    B=[]\n",
    "    s=p\n",
    "    t=q+1\n",
    "\n",
    "    while s<=q and t<=r:\n",
    "        if A[s]<=A[t]:\n",
    "            B.append(A[s])\n",
    "            s=s+1\n",
    "        else:\n",
    "            B.append(A[t])\n",
    "            t=t+1\n",
    "\n",
    "    if s==q+1:\n",
    "        B += A[t:r+1]\n",
    "    else:\n",
    "        B += A[s:q+1]\n",
    "    A[p:r+1]=B[:len(B)]\n",
    "\n",
    "def merge_sort(A,low,high):\n",
    "\n",
    "    # YOUR CODE HERE\n",
    "    if low < high:\n",
    "        mid = (low+high)//2\n",
    "        merge_sort(A,low,mid)\n",
    "        merge_sort(A,mid+1,high)\n",
    "        merge(A,low,mid,high)\n",
    "    \n",
    "    return A[(low+high)//2] #返回值仅用于测试\n"
   ]
  },
  {
   "cell_type": "code",
   "execution_count": 20,
   "id": "741e542f",
   "metadata": {
    "deletable": false,
    "editable": false,
    "nbgrader": {
     "cell_type": "code",
     "checksum": "2de2321c7d3ed73cece79b8eb63ee0e1",
     "grade": true,
     "grade_id": "cell-c19d551f28ddf3da",
     "locked": true,
     "points": 15,
     "schema_version": 3,
     "solution": false,
     "task": false
    }
   },
   "outputs": [],
   "source": [
    "# 测试 merge_sort 函数\n",
    "A = [1,3,2,6,4]\n",
    "merge_sort(A,0,4)\n",
    "assert A == [1,2,3,4,6]\n"
   ]
  },
  {
   "attachments": {},
   "cell_type": "markdown",
   "id": "81e31590",
   "metadata": {
    "deletable": false,
    "editable": false,
    "nbgrader": {
     "cell_type": "markdown",
     "checksum": "64fefd5e84f3a9a84d3ad225381ce1e8",
     "grade": false,
     "grade_id": "cell-ed24b876a084c09d",
     "locked": true,
     "schema_version": 3,
     "solution": false,
     "task": false
    }
   },
   "source": [
    "在不同的问题规模下对比insertion_sort, mod_insertion_sort 和 merge_sort 的效率并绘制图形。(15 points)"
   ]
  },
  {
   "cell_type": "code",
   "execution_count": 25,
   "id": "f306f24e",
   "metadata": {
    "deletable": false,
    "nbgrader": {
     "cell_type": "code",
     "checksum": "0748ce7ffb09caff9371726227183255",
     "grade": false,
     "grade_id": "cell-75630af8884acf56",
     "locked": false,
     "schema_version": 3,
     "solution": true,
     "task": false
    }
   },
   "outputs": [
    {
     "data": {
      "image/png": "[encoded data removed]",
      "text/plain": [
       "<Figure size 640x480 with 1 Axes>"
      ]
     },
     "metadata": {},
     "output_type": "display_data"
    }
   ],
   "source": [
    "import time #用以记录时间\n",
    "import matplotlib.pyplot as plt #用以绘图\n",
    "\n",
    "scales=[100,300,500,1000,3000,5000,10000,20000,30000] #不同的问题规模\n",
    "time_consumes_of_insertion_sort = [] #插入排序算法在不同问题规模下的时间耗费\n",
    "time_consumes_of_mod_insertion_sort = [] #改进插入排序算法在不同问题规模下的时间耗费\n",
    "time_consumes_of_merge_sort = [] #合并排序算法在不同问题规模下的时间耗费\n",
    "upper_bound = 50000 #元素上界\n",
    "A = [] #注意：生成的随机数组变量名必须为 A, 其副本可自由命名\n",
    "\n",
    "# YOUR CODE HERE\n",
    "for i in range(len(scales)):\n",
    "    A = generate_random_list(scales[i],upper_bound)\n",
    "    \n",
    "    start = time.time()\n",
    "    insertion_sort(A)\n",
    "    end = time.time()\n",
    "    time_consumes_of_insertion_sort.append(end-start)\n",
    "    \n",
    "    start = time.time()\n",
    "    mod_insertion_sort(A)\n",
    "    end = time.time()\n",
    "    time_consumes_of_mod_insertion_sort.append(end-start)\n",
    "    \n",
    "    start = time.time()\n",
    "    merge_sort(A,0,len(A)-1)\n",
    "    end = time.time()\n",
    "    time_consumes_of_merge_sort.append(end-start)\n",
    "\n",
    "plt.plot(scales, time_consumes_of_insertion_sort, 'b', label='InsertionSort')\n",
    "plt.plot(scales, time_consumes_of_mod_insertion_sort, 'r', label='ModInsertionSort')\n",
    "plt.plot(scales, time_consumes_of_merge_sort, 'g', label='MergeSort')\n",
    "plt.title('InsertSort, ModInsertSort & MergeSort')\n",
    "plt.xlabel('problem scale')\n",
    "plt.ylabel('time consume')\n",
    "plt.legend()\n",
    "plt.show()"
   ]
  },
  {
   "attachments": {
    "image-3.png": {
     "image/png": "[encoded data removed]"
    }
   },
   "cell_type": "markdown",
   "id": "028491a8",
   "metadata": {
    "deletable": false,
    "editable": false,
    "nbgrader": {
     "cell_type": "markdown",
     "checksum": "77eed55fbdc7b89f7a7b78509dbd23f0",
     "grade": false,
     "grade_id": "cell-93cc86d6fc498645",
     "locked": true,
     "schema_version": 3,
     "solution": false,
     "task": false
    }
   },
   "source": [
    "可获得类似于下面的图像。\n",
    "![image-3.png](attachment:image-3.png)"
   ]
  },
  {
   "cell_type": "code",
   "execution_count": null,
   "id": "63ca0091",
   "metadata": {
    "deletable": false,
    "editable": false,
    "nbgrader": {
     "cell_type": "code",
     "checksum": "43dee51578802577e36e3ae253a570d3",
     "grade": true,
     "grade_id": "cell-4a6519205f707c96",
     "locked": true,
     "points": 15,
     "schema_version": 3,
     "solution": false,
     "task": false
    }
   },
   "outputs": [],
   "source": [
    "# 测试以上代码完成情况\n",
    "assert True != False #该行仅为标记，无需理会\n"
   ]
  },
  {
   "cell_type": "code",
   "execution_count": null,
   "id": "3abab1b6",
   "metadata": {},
   "outputs": [],
   "source": []
  }
 ],
 "metadata": {
  "kernelspec": {
   "display_name": "Python 3 (ipykernel)",
   "language": "python",
   "name": "python3"
  },
  "language_info": {
   "codemirror_mode": {
    "name": "ipython",
    "version": 3
   },
   "file_extension": ".py",
   "mimetype": "text/x-python",
   "name": "python",
   "nbconvert_exporter": "python",
   "pygments_lexer": "ipython3",
   "version": "3.10.9"
  }
 },
 "nbformat": 4,
 "nbformat_minor": 5
}
