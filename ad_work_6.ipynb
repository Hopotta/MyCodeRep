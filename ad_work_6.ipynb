{
 "cells": [
  {
   "cell_type": "markdown",
   "id": "31352600",
   "metadata": {},
   "source": [
    "##### CAUTION: Completing and submitting the assignment constitutes your commitment to complete the assignment independently and not to plagiarize or provide others with the opportunity to plagiarize.\n",
    "\n",
    "Before you turn this problem in, make sure everything runs as expected. First, **restart the kernel** (in the menubar, select Kernel$\\rightarrow$Restart) and then **run all cells** (in the menubar, select Cell$\\rightarrow$Run All).\n",
    "\n",
    "Make sure you fill in any place that says `YOUR CODE HERE` or \"YOUR ANSWER HERE\", as well as your name and collaborators below:"
   ]
  },
  {
   "cell_type": "code",
   "execution_count": null,
   "id": "865030ab",
   "metadata": {},
   "outputs": [],
   "source": [
    "NAME = \"郭子涵\"\n",
    "COLLABORATORS = \"0921201\""
   ]
  },
  {
   "cell_type": "markdown",
   "id": "f92e2cc8",
   "metadata": {},
   "source": [
    "---"
   ]
  },
  {
   "cell_type": "markdown",
   "id": "455bfc5d",
   "metadata": {
    "deletable": false,
    "editable": false,
    "nbgrader": {
     "cell_type": "markdown",
     "checksum": "70bc6b104adbf91b4cece5249f211977",
     "grade": false,
     "grade_id": "cell-fafcad467ba98e3a",
     "locked": true,
     "schema_version": 3,
     "solution": false,
     "task": false
    }
   },
   "source": [
    "### Problem 1:Create Maximum Number (40 points)\n",
    "Given two arrays of length m and n with digits 0-9 representing two numbers. Create the maximum number of length k <= m + n from digits of the two. The relative order of the digits from the same array must be preserved. Return  a number consisting of k digits."
   ]
  },
  {
   "cell_type": "markdown",
   "id": "f2d4c403-914a-4bfa-8c65-194bb4b178ec",
   "metadata": {
    "deletable": false,
    "editable": false,
    "nbgrader": {
     "cell_type": "markdown",
     "checksum": "e9ade1719a924bb09e7acc5ee74bac9a",
     "grade": false,
     "grade_id": "cell-2240d4a2ca95c1cb",
     "locked": true,
     "schema_version": 3,
     "solution": false,
     "task": false
    }
   },
   "source": [
    "Example：  \n",
    "Input:  \n",
    "nums1 = [3, 4, 6, 5]  \n",
    "nums2 = [9, 1, 2, 5, 8, 3]  \n",
    "k = 5  \n",
    "Output:  \n",
    "98653"
   ]
  },
  {
   "cell_type": "code",
   "execution_count": 10,
   "id": "bf690942-4fc3-4c92-aed7-d7e142ab0b93",
   "metadata": {
    "deletable": false,
    "nbgrader": {
     "cell_type": "code",
     "checksum": "e9b140ce6cff524056e53ab56af5a43d",
     "grade": false,
     "grade_id": "cell-312688a68d66ff1f",
     "locked": false,
     "schema_version": 3,
     "solution": true,
     "task": false
    }
   },
   "outputs": [],
   "source": [
    "def max_number(nums1,nums2,k):\n",
    "    n = len(nums1)\n",
    "    m = len(nums2)\n",
    "    # YOUR CODE HERE\n",
    "    def pick_max(nums, k):\n",
    "        stack = []\n",
    "        rem = len(nums) - k\n",
    "        for num in nums:\n",
    "            while rem and stack and stack[-1] < num:\n",
    "                stack.pop()\n",
    "                rem -= 1\n",
    "            stack.append(num)\n",
    "        return stack\n",
    "\n",
    "    def merge(nums1, nums2):\n",
    "        ans = []\n",
    "        while nums1 or nums2:\n",
    "            bigger = nums1 if nums1 > nums2 else nums2\n",
    "            ans.append(bigger[0])\n",
    "            bigger.pop(0)\n",
    "        return ans\n",
    "\n",
    "    len1, len2 = len(nums1), len(nums2)\n",
    "    ans = []\n",
    "    for i in range(max(0, k - len2), min(k, len1) + 1):\n",
    "        tmp = merge(pick_max(nums1, i), pick_max(nums2, k - i))\n",
    "        ans = max(ans, tmp)\n",
    "    return int(''.join(map(str, ans)))"
   ]
  },
  {
   "cell_type": "code",
   "execution_count": 11,
   "id": "2d819d29",
   "metadata": {
    "deletable": false,
    "editable": false,
    "nbgrader": {
     "cell_type": "code",
     "checksum": "bd27a871c06fb23dcf96d2bee8dfe57b",
     "grade": true,
     "grade_id": "cell-2f586e928536e9c3",
     "locked": true,
     "points": 40,
     "schema_version": 3,
     "solution": false,
     "task": false
    }
   },
   "outputs": [],
   "source": [
    "# max_number function test\n",
    "nums1 = [3, 4, 6, 5]\n",
    "nums2 = [9, 1, 2, 5, 8, 3]\n",
    "k = 5\n",
    "max_num = max_number(nums1,nums2,k)\n",
    "assert max_num == 98653\n"
   ]
  },
  {
   "cell_type": "markdown",
   "id": "c637acc7",
   "metadata": {
    "deletable": false,
    "editable": false,
    "nbgrader": {
     "cell_type": "markdown",
     "checksum": "f79f5e9a6e0b99efd4fa81babdb9dfb3",
     "grade": false,
     "grade_id": "cell-8deee1dc1994046f",
     "locked": true,
     "schema_version": 3,
     "solution": false,
     "task": false
    }
   },
   "source": [
    "### Problem 2:LIS (60 points)\n",
    "Given an unsorted array of integers, find a length of longest increasing subsequence."
   ]
  },
  {
   "cell_type": "markdown",
   "id": "8c78b352-ed31-463f-9a82-7f0ae5967b55",
   "metadata": {
    "deletable": false,
    "editable": false,
    "nbgrader": {
     "cell_type": "markdown",
     "checksum": "e84dbbfe3c4d8ef795ef210eaf7798f6",
     "grade": false,
     "grade_id": "cell-95939dbb74547f02",
     "locked": true,
     "schema_version": 3,
     "solution": false,
     "task": false
    }
   },
   "source": [
    "Example:  \n",
    "Input: [10,9,2,5,3,7,101,18]  \n",
    "Output: [2,3,7,101] (or other 4 items increasing subsequence)  \n",
    "Explanation: The longest increasing subsequence is [2,3,7,101], therefore the length is 4.  \n",
    "Please design and explain your Dynamic Programming recursive formula, then implement the algorithms in Python."
   ]
  },
  {
   "cell_type": "markdown",
   "id": "6bbb33dc-2e0f-4e0c-bfc4-d836259ec1c0",
   "metadata": {
    "deletable": false,
    "editable": false,
    "nbgrader": {
     "cell_type": "markdown",
     "checksum": "bd9a4ad7f8270f132d2ff3340a5e1811",
     "grade": false,
     "grade_id": "cell-8209377491890b8c",
     "locked": true,
     "schema_version": 3,
     "solution": false,
     "task": false
    }
   },
   "source": [
    "Caution: Use LCS Algorithm to Solve This Problem is NOT Allowed!"
   ]
  },
  {
   "cell_type": "code",
   "execution_count": 1,
   "id": "72a37a37-6fd1-44d0-9dde-3302e177bb8e",
   "metadata": {
    "deletable": false,
    "nbgrader": {
     "cell_type": "code",
     "checksum": "8e387ecf101ddca2c914f1f9723d1721",
     "grade": false,
     "grade_id": "cell-2ccc8c16e2e45724",
     "locked": false,
     "schema_version": 3,
     "solution": true,
     "task": false
    }
   },
   "outputs": [],
   "source": [
    "# find the longest increasing subsequence\n",
    "def lis(A):\n",
    "    # YOUR CODE HERE\n",
    "    if not A:\n",
    "        return []\n",
    "    n = len(A)\n",
    "    dp = [1] * n\n",
    "    for i in range(1, n):\n",
    "        for j in range(i):\n",
    "            if A[i] > A[j]:\n",
    "                dp[i] = max(dp[i], dp[j] + 1)\n",
    "    max_length = max(dp)\n",
    "    res = []\n",
    "    for i in range(n - 1, -1, -1):\n",
    "        if dp[i] == max_length:\n",
    "            res.append(A[i])\n",
    "            max_length -= 1\n",
    "    return res[::-1]"
   ]
  },
  {
   "cell_type": "code",
   "execution_count": 9,
   "id": "6262f482",
   "metadata": {
    "deletable": false,
    "editable": false,
    "nbgrader": {
     "cell_type": "code",
     "checksum": "34411eb07a8002ffc7fa36716966e334",
     "grade": true,
     "grade_id": "cell-fadd57aea094cf93",
     "locked": true,
     "points": 60,
     "schema_version": 3,
     "solution": false,
     "task": false
    }
   },
   "outputs": [
    {
     "name": "stdout",
     "output_type": "stream",
     "text": [
      "[2, 3, 7, 18]\n"
     ]
    }
   ],
   "source": [
    "# lis function test\n",
    "# The return result of the function should be the longest increasing subsequence array。\n",
    "A = [10,9,2,5,3,7,101,18]\n",
    "print(lis(A))\n",
    "assert(len(lis(A)) == 4)"
   ]
  }
 ],
 "metadata": {
  "kernelspec": {
   "display_name": "Python 3 (ipykernel)",
   "language": "python",
   "name": "python3"
  },
  "language_info": {
   "codemirror_mode": {
    "name": "ipython",
    "version": 3
   },
   "file_extension": ".py",
   "mimetype": "text/x-python",
   "name": "python",
   "nbconvert_exporter": "python",
   "pygments_lexer": "ipython3",
   "version": "3.10.9"
  }
 },
 "nbformat": 4,
 "nbformat_minor": 5
}
