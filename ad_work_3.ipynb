{
 "cells": [
  {
   "cell_type": "markdown",
   "id": "d6351e6c",
   "metadata": {},
   "source": [
    "##### CAUTION: Completing and submitting the assignment constitutes your commitment to complete the assignment independently and not to plagiarize or provide others with the opportunity to plagiarize.\n",
    "\n",
    "Before you turn this problem in, make sure everything runs as expected. First, **restart the kernel** (in the menubar, select Kernel$\\rightarrow$Restart) and then **run all cells** (in the menubar, select Cell$\\rightarrow$Run All).\n",
    "\n",
    "Make sure you fill in any place that says `YOUR CODE HERE` or \"YOUR ANSWER HERE\", as well as your name and collaborators below:"
   ]
  },
  {
   "cell_type": "code",
   "execution_count": 6,
   "id": "d82454cb",
   "metadata": {},
   "outputs": [],
   "source": [
    "NAME = \"郭子涵\"\n",
    "COLLABORATORS = \"0921201\""
   ]
  },
  {
   "cell_type": "markdown",
   "id": "442ddc30",
   "metadata": {},
   "source": [
    "---"
   ]
  },
  {
   "cell_type": "markdown",
   "id": "455bfc5d",
   "metadata": {
    "deletable": false,
    "editable": false,
    "nbgrader": {
     "cell_type": "markdown",
     "checksum": "e0940420b197bd5f07a98a236c50b4c9",
     "grade": false,
     "grade_id": "cell-fafcad467ba98e3a",
     "locked": true,
     "schema_version": 3,
     "solution": false,
     "task": false
    }
   },
   "source": [
    "### Problem 1: 将k个有序序列合并为整体有序 (30 points)\n",
    " (1) 考虑这样一个对k个有序序列（每个序列中含n/k个元素）进行合并排序的算法，将第1个序列与第2个进行线性时间内的Merge操作（就像我们在合并排序中使用的那样。然后，将合并得到的序列（含2n/k个元素）与第3个有序序列合并，接着再用得到的含3n/k个元素的序列与第4个有序序列合并... 直到最终得到一个含有所有元素的有序序列，请实现该算法，并分析其时间复杂性；\n",
    " \n",
    " (2) 请用分治法解决该问题并分析其时间复杂性。"
   ]
  },
  {
   "cell_type": "markdown",
   "id": "5d0e5f0d",
   "metadata": {
    "deletable": false,
    "editable": false,
    "nbgrader": {
     "cell_type": "markdown",
     "checksum": "0db29d0841185bf0390e925a732a3265",
     "grade": false,
     "grade_id": "cell-dc5fbf06e4839c2b",
     "locked": true,
     "schema_version": 3,
     "solution": false,
     "task": false
    }
   },
   "source": [
    "首先完成merge函数。 (10 points)"
   ]
  },
  {
   "cell_type": "code",
   "execution_count": 7,
   "id": "38f8b80d",
   "metadata": {
    "deletable": false,
    "nbgrader": {
     "cell_type": "code",
     "checksum": "4a37cf63d8bb48e3916685d305c62516",
     "grade": false,
     "grade_id": "cell-d56db2b6577e42ce",
     "locked": false,
     "schema_version": 3,
     "solution": true,
     "task": false
    }
   },
   "outputs": [],
   "source": [
    "def merge(A,p,q,r):\n",
    "    s=p\n",
    "    t=q+1\n",
    "    k=p\n",
    "    B=[0]*len(A)\n",
    "\n",
    "    while s<=q and t<=r:\n",
    "    # YOUR CODE HERE\n",
    "        if A[s]<=A[t]:\n",
    "            B[k]=A[s]\n",
    "            s+=1\n",
    "        else:\n",
    "            B[k]=A[t]\n",
    "            t+=1\n",
    "        k+=1\n",
    "    if s==q+1:\n",
    "        B[k:r+1]=A[t:r+1]\n",
    "    else:\n",
    "        B[k:r+1]=A[s:q+1]\n",
    "    A[p:r+1]=B[p:r+1]"
   ]
  },
  {
   "cell_type": "code",
   "execution_count": 8,
   "id": "2d819d29",
   "metadata": {
    "deletable": false,
    "editable": false,
    "nbgrader": {
     "cell_type": "code",
     "checksum": "3279a1bfd1e1902e30d131d21f3c7026",
     "grade": true,
     "grade_id": "cell-2f586e928536e9c3",
     "locked": true,
     "points": 10,
     "schema_version": 3,
     "solution": false,
     "task": false
    }
   },
   "outputs": [],
   "source": [
    "# 测试 merge函数\n",
    "A = [2,4,6,1,3,5]\n",
    "merge(A,0,2,5)\n",
    "assert A == [1,2,3,4,5,6] \n"
   ]
  },
  {
   "cell_type": "markdown",
   "id": "9efb544e-7e1a-4e86-aedb-b200319a3898",
   "metadata": {
    "deletable": false,
    "editable": false,
    "nbgrader": {
     "cell_type": "markdown",
     "checksum": "3543a6c6efc2eb1eb0bc4c04400a2eb6",
     "grade": false,
     "grade_id": "cell-8deee1dc1994046f",
     "locked": true,
     "schema_version": 3,
     "solution": false,
     "task": false
    }
   },
   "source": [
    "设计k_merge函数，将k段有序序列（每个序列中含n/k个元素）合并为整体有序。 (8 points)"
   ]
  },
  {
   "cell_type": "code",
   "execution_count": 19,
   "id": "12afaf87",
   "metadata": {
    "deletable": false,
    "nbgrader": {
     "cell_type": "code",
     "checksum": "d8f71bc7b9b7a69eb643ad65f6283828",
     "grade": false,
     "grade_id": "cell-80e1684c1bc93854",
     "locked": false,
     "schema_version": 3,
     "solution": true,
     "task": false
    }
   },
   "outputs": [],
   "source": [
    "def k_merge(A,k):\n",
    "    # YOUR CODE HERE\n",
    "    n = len(A)\n",
    "    size = n // k\n",
    "    for i in range(k-1):\n",
    "        merge(A,i*size,(i+1)*size-1,(i+2)*size-1)\n",
    "    merge(A,(k-1)*size,n-1,n-1)\n",
    "    return A\n",
    "\n"
   ]
  },
  {
   "cell_type": "code",
   "execution_count": 20,
   "id": "6262f482",
   "metadata": {
    "deletable": false,
    "editable": false,
    "nbgrader": {
     "cell_type": "code",
     "checksum": "c4fc9288918f19aa8b8300702e32430c",
     "grade": true,
     "grade_id": "cell-fadd57aea094cf93",
     "locked": true,
     "points": 8,
     "schema_version": 3,
     "solution": false,
     "task": false
    }
   },
   "outputs": [],
   "source": [
    "# 测试 k_merge函数\n",
    "A = [1,3,2,6,4,8,5,7]\n",
    "k_merge(A,4)\n",
    "assert A == [1,2,3,4,5,6,7,8] \n"
   ]
  },
  {
   "cell_type": "markdown",
   "id": "06d3cbd9",
   "metadata": {
    "deletable": false,
    "editable": false,
    "nbgrader": {
     "cell_type": "markdown",
     "checksum": "9d342a55c17afbbe224754e638ed572b",
     "grade": false,
     "grade_id": "cell-628550c1061a90ff",
     "locked": true,
     "schema_version": 3,
     "solution": false,
     "task": false
    }
   },
   "source": [
    "k_merge的时间复杂性应为： (2 points)\n",
    "\n",
    "(a)  $\\Theta (log\\mathit{n} )$\n",
    "\n",
    "(b)  $\\Theta (\\mathit{n}* \\mathit{k})$\n",
    "\n",
    "(c)  $\\Theta (\\mathit{n}log\\mathit{k} )$\n",
    "\n",
    "(d)  $\\Theta (\\mathit{n}^2* \\mathit{k} )$\n",
    "\n",
    "##### 请根据你的选择，在下面的代码框中为 T_n 赋值 'a', 'b', 'c', 或 'd' ，例如：\n",
    "T_n = 'd'"
   ]
  },
  {
   "cell_type": "code",
   "execution_count": 11,
   "id": "baef9b1d",
   "metadata": {
    "deletable": false,
    "nbgrader": {
     "cell_type": "code",
     "checksum": "0d9967f8e91631ba8515bce90b979471",
     "grade": false,
     "grade_id": "cell-9230bbefcb0c3f8c",
     "locked": false,
     "schema_version": 3,
     "solution": true,
     "task": false
    }
   },
   "outputs": [],
   "source": [
    "# YOUR CODE HERE\n",
    "T_n = ''"
   ]
  },
  {
   "cell_type": "code",
   "execution_count": null,
   "id": "0590d743-9485-46e4-a67e-6a25a4ead255",
   "metadata": {
    "deletable": false,
    "editable": false,
    "nbgrader": {
     "cell_type": "code",
     "checksum": "b4f6e6b6f5cdf702031d1a45782e8b72",
     "grade": true,
     "grade_id": "cell-2b9130acd2489101",
     "locked": true,
     "points": 2,
     "schema_version": 3,
     "solution": false,
     "task": false
    }
   },
   "outputs": [],
   "source": [
    "# This test checks that your answer has the right format\n",
    "# It does not check for correctness\n",
    "assert T_n in ['a','b','c','d']\n"
   ]
  },
  {
   "cell_type": "markdown",
   "id": "90f6ed98-ca6f-4a4b-b68c-919e239766c6",
   "metadata": {
    "deletable": false,
    "editable": false,
    "nbgrader": {
     "cell_type": "markdown",
     "checksum": "ab91c1b2e4e9e1fcd64db6b628733be4",
     "grade": false,
     "grade_id": "cell-1bccab655ece8dd7",
     "locked": true,
     "schema_version": 3,
     "solution": false,
     "task": false
    }
   },
   "source": [
    "请用分治法解决该问题。（8 points）"
   ]
  },
  {
   "cell_type": "code",
   "execution_count": 22,
   "id": "c2bf463a-33cb-441d-a5c9-3226a5daeaba",
   "metadata": {
    "deletable": false,
    "nbgrader": {
     "cell_type": "code",
     "checksum": "cf2e75a9cd2ed1103b9ca1c0569b0e06",
     "grade": false,
     "grade_id": "cell-df5d59afbb7fb452",
     "locked": false,
     "schema_version": 3,
     "solution": true,
     "task": false
    }
   },
   "outputs": [],
   "source": [
    "def mySort_DC(A,low,high,k):\n",
    "    # YOUR CODE HERE\n",
    "    if high-low+1<=k:\n",
    "        merge(A,low,(low+high)//2,high)\n",
    "    else:\n",
    "        mySort_DC(A,low,low+k-1,k)\n",
    "        mySort_DC(A,low+k,high,k)\n",
    "        k_merge(A,k)\n",
    "    return A\n"
   ]
  },
  {
   "cell_type": "code",
   "execution_count": 23,
   "id": "5aa58f2a",
   "metadata": {
    "deletable": false,
    "editable": false,
    "nbgrader": {
     "cell_type": "code",
     "checksum": "3a0c2077aaddea4851b85d67b597cac9",
     "grade": true,
     "grade_id": "cell-364a37d522c63f48",
     "locked": true,
     "points": 8,
     "schema_version": 3,
     "solution": false,
     "task": false
    }
   },
   "outputs": [],
   "source": [
    "# 测试 mySort_DC函数\n",
    "A = [1,3,2,6,4,8,5,7]\n",
    "mySort_DC(A,0,len(A)-1,4)\n",
    "assert A == [1,2,3,4,5,6,7,8] \n"
   ]
  },
  {
   "cell_type": "markdown",
   "id": "d06ddd08-a29d-46ff-a997-233f5be97baf",
   "metadata": {
    "deletable": false,
    "editable": false,
    "nbgrader": {
     "cell_type": "markdown",
     "checksum": "182c0c5552dd8d2fa71bd7c1c69de499",
     "grade": false,
     "grade_id": "cell-c055e3d9e79cfc3d",
     "locked": true,
     "schema_version": 3,
     "solution": false,
     "task": false
    }
   },
   "source": [
    "mySort_DC的时间复杂性应为： (2 points)\n",
    "\n",
    "(a)  $\\Theta (log\\mathit{n} )$\n",
    "\n",
    "(b)  $\\Theta (\\mathit{n}* \\mathit{k})$\n",
    "\n",
    "(c)  $\\Theta (\\mathit{n}*log\\mathit{k} )$\n",
    "\n",
    "(d)  $\\Theta (\\mathit{n}^2* \\mathit{k} )$\n",
    "\n",
    "##### 请根据你的选择，在下面的代码框中为 T_n 赋值 'a', 'b', 'c', 或 'd' ，例如：\n",
    "T_n = 'd'"
   ]
  },
  {
   "cell_type": "code",
   "execution_count": null,
   "id": "f5f53567-6504-4d9e-92f6-e2162e070e5c",
   "metadata": {
    "deletable": false,
    "nbgrader": {
     "cell_type": "code",
     "checksum": "fdfa559caa5a06b0e7a1107681b555e3",
     "grade": false,
     "grade_id": "cell-9fbaaf8d614a8eb0",
     "locked": false,
     "schema_version": 3,
     "solution": true,
     "task": false
    }
   },
   "outputs": [],
   "source": [
    "# YOUR CODE HERE\n",
    "T_n = ''"
   ]
  },
  {
   "cell_type": "code",
   "execution_count": null,
   "id": "22426b38",
   "metadata": {
    "deletable": false,
    "editable": false,
    "nbgrader": {
     "cell_type": "code",
     "checksum": "6741f48cdbf26a3b855f4bef80e76751",
     "grade": true,
     "grade_id": "cell-bf726c598319a162",
     "locked": true,
     "points": 2,
     "schema_version": 3,
     "solution": false,
     "task": false
    }
   },
   "outputs": [],
   "source": [
    "# This test checks that your answer has the right format\n",
    "# It does not check for correctness\n",
    "assert T_n in ['a','b','c','d']\n"
   ]
  },
  {
   "cell_type": "markdown",
   "id": "bece42db-4d3c-47d6-9e1e-f7e85d22c884",
   "metadata": {
    "deletable": false,
    "editable": false,
    "nbgrader": {
     "cell_type": "markdown",
     "checksum": "2b807ccf598d4d4b481fc2a5abefc861",
     "grade": false,
     "grade_id": "cell-3267bd805b5d16eb",
     "locked": true,
     "schema_version": 3,
     "solution": false,
     "task": false
    }
   },
   "source": [
    "### Problem 2: 寻找多数元素 (30 points)\n",
    " (1) 给定一个大小为n的数组，请设计一个分治算法找到其中的多数元素，并分析其时间复杂性。多数元素是指在数组中出现次数大于⌊n/2⌋的元素，假设数组非空，且总是存在多数元素。\n",
    "\n",
    " （注：容易想到的分治策略是将元素对半划分，递归调用得到左、右半段的多数元素，整体的多数元素必为其一。但您可以想想，是否有更佳的分治策略？）\n",
    "\n",
    "  (2) 请接着用哈希表完成该问题的算法设计，并分析其时间复杂性。"
   ]
  },
  {
   "cell_type": "markdown",
   "id": "47f953a7-a8cd-4ee3-a6c7-806c2b94e0eb",
   "metadata": {
    "deletable": false,
    "editable": false,
    "nbgrader": {
     "cell_type": "markdown",
     "checksum": "fcda76694e93282b61181be5cbb0b38b",
     "grade": false,
     "grade_id": "cell-5e771b65d7e1233e",
     "locked": true,
     "schema_version": 3,
     "solution": false,
     "task": false
    }
   },
   "source": [
    "首先根据容易想到的分治策略设计majorityElement1函数。（8 points）"
   ]
  },
  {
   "cell_type": "code",
   "execution_count": 25,
   "id": "18b6abf2-628d-4ffb-b2ea-81b7ae0af497",
   "metadata": {
    "deletable": false,
    "nbgrader": {
     "cell_type": "code",
     "checksum": "ac0c31af7f8f728de2ccbda2352d615f",
     "grade": false,
     "grade_id": "cell-82efe0dae425e540",
     "locked": false,
     "schema_version": 3,
     "solution": true,
     "task": false
    }
   },
   "outputs": [],
   "source": [
    "def majorityElement1(A,low,high):\n",
    "    if low==high:\n",
    "        return A[low]\n",
    "    mid=(low+high)//2\n",
    "    left=majorityElement1(A,low,mid)\n",
    "    right=majorityElement1(A,mid+1 ,high)\n",
    "    # YOUR CODE HERE\n",
    "    if left==right:\n",
    "        return left\n",
    "    else:\n",
    "        left_count=0\n",
    "        right_count=0\n",
    "        for i in range(low,high+1):\n",
    "            if A[i]==left:\n",
    "                left_count+=1\n",
    "            elif A[i]==right:\n",
    "                right_count+=1\n",
    "        if left_count>right_count:\n",
    "            return left\n",
    "        else:\n",
    "            return right"
   ]
  },
  {
   "cell_type": "code",
   "execution_count": 26,
   "id": "f8a628f4-73a1-485d-abd9-117f559152cc",
   "metadata": {
    "deletable": false,
    "editable": false,
    "nbgrader": {
     "cell_type": "code",
     "checksum": "f50dd9c8d4768537712c5651b25897f3",
     "grade": true,
     "grade_id": "cell-4a0f2e2b444392b9",
     "locked": true,
     "points": 8,
     "schema_version": 3,
     "solution": false,
     "task": false
    }
   },
   "outputs": [],
   "source": [
    "# 测试 majorityElement1函数\n",
    "A = [2,2,1,1,1,2,2]\n",
    "m=majorityElement1(A,0,len(A)-1)\n",
    "assert m == 2 \n"
   ]
  },
  {
   "cell_type": "markdown",
   "id": "82c84e34-8c2b-467a-a17b-b6d9484a1a44",
   "metadata": {
    "deletable": false,
    "editable": false,
    "nbgrader": {
     "cell_type": "markdown",
     "checksum": "89e28c7a4282d4b24000f88ac670b44b",
     "grade": false,
     "grade_id": "cell-c1af7bb560e7a6bb",
     "locked": true,
     "schema_version": 3,
     "solution": false,
     "task": false
    }
   },
   "source": [
    "majorityElement1的时间复杂性应为： (2 points)\n",
    "\n",
    "(a)  $\\mathit{O} (log\\mathit{n} )$\n",
    "\n",
    "(b)  $\\mathit{O} (\\mathit{n} )$\n",
    "\n",
    "(c)  $\\mathit{O} (\\mathit{n}log\\mathit{n} )$\n",
    "\n",
    "(d)  $\\mathit{O} (\\mathit{n}^2 )$\n",
    "\n",
    "##### 请根据你的选择，在下面的代码框中为 T_n 赋值 'a', 'b', 'c', 或 'd' ，例如：\n",
    "T_n = 'd'"
   ]
  },
  {
   "cell_type": "code",
   "execution_count": null,
   "id": "c8bdef43-0a56-4a9a-91f6-b31b931da1a6",
   "metadata": {
    "deletable": false,
    "nbgrader": {
     "cell_type": "code",
     "checksum": "a443e658f4a87039612471e793e15806",
     "grade": false,
     "grade_id": "cell-6e48250c277166a1",
     "locked": false,
     "schema_version": 3,
     "solution": true,
     "task": false
    }
   },
   "outputs": [],
   "source": [
    "# YOUR CODE HERE\n",
    "T_n = ''"
   ]
  },
  {
   "cell_type": "code",
   "execution_count": null,
   "id": "15919720-7b3f-4dce-ad43-b4b3e0f61d99",
   "metadata": {
    "deletable": false,
    "editable": false,
    "nbgrader": {
     "cell_type": "code",
     "checksum": "e2793d72f360aa8ed56b48301dcd6ae4",
     "grade": true,
     "grade_id": "cell-2dd1592352892d1e",
     "locked": true,
     "points": 2,
     "schema_version": 3,
     "solution": false,
     "task": false
    }
   },
   "outputs": [],
   "source": [
    "# This test checks that your answer has the right format\n",
    "# It does not check for correctness\n",
    "assert T_n in ['a','b','c','d']\n"
   ]
  },
  {
   "cell_type": "markdown",
   "id": "e449b36b-53b0-449d-98fb-04d3bbcd8087",
   "metadata": {
    "deletable": false,
    "editable": false,
    "nbgrader": {
     "cell_type": "markdown",
     "checksum": "76b68fb1ee533e812aca4dcc00dbc424",
     "grade": false,
     "grade_id": "cell-65b2e82e126f4264",
     "locked": true,
     "schema_version": 3,
     "solution": false,
     "task": false
    }
   },
   "source": [
    "接下来请思考是否有更佳的分治策略，并设计majorityElement2函数。（10 points）"
   ]
  },
  {
   "cell_type": "code",
   "execution_count": 28,
   "id": "0144ad7e-d1e0-4c84-ae01-e1f5d9b64920",
   "metadata": {
    "deletable": false,
    "nbgrader": {
     "cell_type": "code",
     "checksum": "24fad3737cedcb6485e19562fa9de41f",
     "grade": false,
     "grade_id": "cell-42e4154e0cf67a50",
     "locked": false,
     "schema_version": 3,
     "solution": true,
     "task": false
    }
   },
   "outputs": [],
   "source": [
    "# YOUR CODE HERE\n",
    "\n",
    "def majorityElement2(A,low ,high):\n",
    "    # YOUR CODE HERE\n",
    "    if low==high:\n",
    "        return A[low]\n",
    "    mid=(low+high)//2\n",
    "    left=majorityElement2(A,low,mid)\n",
    "    right=majorityElement2(A,mid+1 ,high)\n",
    "    if left==right:\n",
    "        return left\n",
    "    else:\n",
    "        left_count=0\n",
    "        right_count=0\n",
    "        for i in range(low,high+1):\n",
    "            if A[i]==left:\n",
    "                left_count+=1\n",
    "            elif A[i]==right:\n",
    "                right_count+=1\n",
    "        if left_count>right_count:\n",
    "            return left\n",
    "        else:\n",
    "            return right"
   ]
  },
  {
   "cell_type": "code",
   "execution_count": 29,
   "id": "4f477dc0-cfba-47c9-bb59-98dd4b3de375",
   "metadata": {
    "deletable": false,
    "editable": false,
    "nbgrader": {
     "cell_type": "code",
     "checksum": "b3940ad5b6543597e85d2b40bd8828c4",
     "grade": true,
     "grade_id": "cell-6c190a67c94e8dd5",
     "locked": true,
     "points": 10,
     "schema_version": 3,
     "solution": false,
     "task": false
    }
   },
   "outputs": [],
   "source": [
    "# 测试 majorityElement2函数\n",
    "A = [2,2,1,1,1,2,2]\n",
    "m=majorityElement2(A,0,len(A)-1)\n",
    "assert m == 2 \n"
   ]
  },
  {
   "cell_type": "markdown",
   "id": "6afed7cc-05af-4d37-ba4e-43ce36a3dc04",
   "metadata": {
    "deletable": false,
    "editable": false,
    "nbgrader": {
     "cell_type": "markdown",
     "checksum": "4b95438ec7897085142f5c70d3f14442",
     "grade": false,
     "grade_id": "cell-3899c49597a63ea0",
     "locked": true,
     "schema_version": 3,
     "solution": false,
     "task": false
    }
   },
   "source": [
    "请用哈希表完成该问题的算法设计。（8 points）"
   ]
  },
  {
   "cell_type": "code",
   "execution_count": 30,
   "id": "469b3959-cc48-4acf-b6dd-c94ba9dc24d7",
   "metadata": {
    "deletable": false,
    "nbgrader": {
     "cell_type": "code",
     "checksum": "bb9cb6201220cb467c5893450e1b5408",
     "grade": false,
     "grade_id": "cell-5c2708e24aa39006",
     "locked": false,
     "schema_version": 3,
     "solution": true,
     "task": false
    }
   },
   "outputs": [],
   "source": [
    "def majorityElement3(A,low ,high):\n",
    "    Y={}\n",
    "    for i in range(len(A)):\n",
    "        # YOUR CODE HERE\n",
    "        if A[i] in Y:\n",
    "            Y[A[i]]+=1\n",
    "        else:\n",
    "            Y[A[i]]=1\n",
    "    for i in Y:\n",
    "        if Y[i]>len(A)/2:\n",
    "            return i\n",
    "    return None\n"
   ]
  },
  {
   "cell_type": "code",
   "execution_count": 31,
   "id": "47bfdafb-736f-40c2-99e7-86e7a4d26423",
   "metadata": {
    "deletable": false,
    "editable": false,
    "nbgrader": {
     "cell_type": "code",
     "checksum": "f421c1f598f55759452fefeb52ba9c26",
     "grade": true,
     "grade_id": "cell-699150e2e5b55d05",
     "locked": true,
     "points": 8,
     "schema_version": 3,
     "solution": false,
     "task": false
    }
   },
   "outputs": [],
   "source": [
    "# 测试 majorityElement3函数\n",
    "A = [2,2,1,1,1,2,2]\n",
    "m=majorityElement3(A,0,len(A)-1)\n",
    "assert m == 2 \n"
   ]
  },
  {
   "cell_type": "markdown",
   "id": "9bae5c00-9696-4cab-9716-a595044d1de4",
   "metadata": {
    "deletable": false,
    "editable": false,
    "nbgrader": {
     "cell_type": "markdown",
     "checksum": "6716f2a54cf8ce902767906569ade78f",
     "grade": false,
     "grade_id": "cell-1cae8f889ab66b78",
     "locked": true,
     "schema_version": 3,
     "solution": false,
     "task": false
    }
   },
   "source": [
    "majorityElement3的时间复杂性应为： (2 points)\n",
    "\n",
    "(a)  $\\Theta (log\\mathit{n} )$\n",
    "\n",
    "(b)  $\\Theta (\\mathit{n} )$\n",
    "\n",
    "(c)  $\\Theta (\\mathit{n}log\\mathit{n} )$\n",
    "\n",
    "(d)  $\\Theta (\\mathit{n}^2 )$\n",
    "\n",
    "##### 请根据你的选择，在下面的代码框中为 T_n 赋值 'a', 'b', 'c', 或 'd' ，例如：\n",
    "T_n = 'd'"
   ]
  },
  {
   "cell_type": "code",
   "execution_count": null,
   "id": "40d877af-d536-4d71-ad59-4f62143d82ae",
   "metadata": {
    "deletable": false,
    "nbgrader": {
     "cell_type": "code",
     "checksum": "cc70fa3b9ad4d1f0d5bcb10d6d0e9c73",
     "grade": false,
     "grade_id": "cell-40476b465edcf405",
     "locked": false,
     "schema_version": 3,
     "solution": true,
     "task": false
    }
   },
   "outputs": [],
   "source": [
    "# YOUR CODE HERE\n",
    "T_n = ''"
   ]
  },
  {
   "cell_type": "code",
   "execution_count": null,
   "id": "4629ce85-3b10-46a0-8da6-384e18976b9b",
   "metadata": {
    "deletable": false,
    "editable": false,
    "nbgrader": {
     "cell_type": "code",
     "checksum": "16f7c4d0af24813595f13137cf4ef0bb",
     "grade": true,
     "grade_id": "cell-9d02273f08a3ea6e",
     "locked": true,
     "points": 2,
     "schema_version": 3,
     "solution": false,
     "task": false
    }
   },
   "outputs": [],
   "source": [
    "# This test checks that your answer has the right format\n",
    "# It does not check for correctness\n",
    "assert T_n in ['a','b','c','d']\n"
   ]
  },
  {
   "cell_type": "markdown",
   "id": "bc09da4e-6511-43c2-b17d-fcade885183f",
   "metadata": {
    "deletable": false,
    "editable": false,
    "nbgrader": {
     "cell_type": "markdown",
     "checksum": "840299f4ed6659910ba9b0706c94a74e",
     "grade": false,
     "grade_id": "cell-e82f05b72291da8a",
     "locked": true,
     "schema_version": 3,
     "solution": false,
     "task": false
    }
   },
   "source": [
    "### Problem 3: 最佳小组问题 (40 points)\n",
    "假设有n个职员，序号为0至n-1，其能力值记录在数组capacities中，现需从n个职员中选出一个最佳小组，要求小组中的职员序号必须连续，且他们的能力值之和在所有可能的小组中最大（小组规模最少1人，最多n人）。由于职员的能力值可为负，因此并非规模越大越好。请设计一个分治算法求出最佳小组所能得到的那个最大能力值，并分析其时间复杂性。"
   ]
  },
  {
   "cell_type": "markdown",
   "id": "1e7dfccd-5756-430d-8e4b-db81da704209",
   "metadata": {
    "deletable": false,
    "editable": false,
    "nbgrader": {
     "cell_type": "markdown",
     "checksum": "651739458ca94cdcaaa530b532b34ea2",
     "grade": false,
     "grade_id": "cell-e9fb05328fb9dcc6",
     "locked": true,
     "schema_version": 3,
     "solution": false,
     "task": false
    }
   },
   "source": [
    "示例：\n",
    "\n",
    "输入：capacities= [-2,1,-3,4,-2,3,-1,-5,4]\n",
    "\n",
    "输出：5\n",
    "\n",
    "因为取连续职员 [4,-2,3]形成的小组可得到总能力5。"
   ]
  },
  {
   "cell_type": "markdown",
   "id": "bd277d4f-8636-42b6-a554-df5fd5be3427",
   "metadata": {
    "deletable": false,
    "editable": false,
    "nbgrader": {
     "cell_type": "markdown",
     "checksum": "7fcc3642e0d3ca64f37da6570c902cc3",
     "grade": false,
     "grade_id": "cell-2425e26a0ec96b87",
     "locked": true,
     "schema_version": 3,
     "solution": false,
     "task": false
    }
   },
   "source": [
    "请设计一个分治算法求出最佳小组所能得到的最大能力值。(35 points)"
   ]
  },
  {
   "cell_type": "code",
   "execution_count": 34,
   "id": "fe834109-7ef3-4fa9-8407-b7a0b60996af",
   "metadata": {
    "deletable": false,
    "nbgrader": {
     "cell_type": "code",
     "checksum": "a1d6fe11711d179c9a2bc1fc59ce12ca",
     "grade": false,
     "grade_id": "cell-cd7497bf3ceefaaa",
     "locked": false,
     "schema_version": 3,
     "solution": true,
     "task": false
    }
   },
   "outputs": [],
   "source": [
    "# YOUR CODE HERE\n",
    "\n",
    "\n",
    "def maxSubArray(A,low, high) :\n",
    "    # YOUR CODE HERE\n",
    "    if low==high:\n",
    "        return A[low]\n",
    "    mid=(low+high)//2\n",
    "    left=maxSubArray(A,low,mid)\n",
    "    right=maxSubArray(A,mid+1,high)\n",
    "    mid_left=A[mid]\n",
    "    mid_right=A[mid+1]\n",
    "    temp=0\n",
    "    for i in range(mid,low-1,-1):\n",
    "        temp+=A[i]\n",
    "        if temp>mid_left:\n",
    "            mid_left=temp\n",
    "    temp=0\n",
    "    for i in range(mid+1,high+1):\n",
    "        temp+=A[i]\n",
    "        if temp>mid_right:\n",
    "            mid_right=temp\n",
    "    mid_max=mid_left+mid_right\n",
    "    return max(left,right,mid_max)"
   ]
  },
  {
   "cell_type": "code",
   "execution_count": 35,
   "id": "bb20bc28-81e4-4eb9-9d4a-2da71a4f134f",
   "metadata": {
    "deletable": false,
    "editable": false,
    "nbgrader": {
     "cell_type": "code",
     "checksum": "6e3afde80fd58cb1394d741cac6b321f",
     "grade": true,
     "grade_id": "cell-f078c84263964963",
     "locked": true,
     "points": 35,
     "schema_version": 3,
     "solution": false,
     "task": false
    }
   },
   "outputs": [],
   "source": [
    "# 测试 maxSubArray函数\n",
    "A = [-2,1,-3,4,-2,3,-1,-5,4]\n",
    "m=maxSubArray(A,0,len(A)-1)\n",
    "assert m == 5 \n"
   ]
  },
  {
   "cell_type": "markdown",
   "id": "aadb67e0-f8bf-44b2-a0b6-2623d59e7221",
   "metadata": {
    "deletable": false,
    "editable": false,
    "nbgrader": {
     "cell_type": "markdown",
     "checksum": "75a94a377e1eb29b2c68b04595873b85",
     "grade": false,
     "grade_id": "cell-0c9948565d41d10e",
     "locked": true,
     "schema_version": 3,
     "solution": false,
     "task": false
    }
   },
   "source": [
    "maxSubArray的时间复杂性应为： (5 points)\n",
    "\n",
    "(a)  $\\Theta (log\\mathit{n} )$\n",
    "\n",
    "(b)  $\\Theta (\\mathit{n} )$\n",
    "\n",
    "(c)  $\\Theta (\\mathit{n}log\\mathit{n} )$\n",
    "\n",
    "(d)  $\\Theta (\\mathit{n}^2 )$\n",
    "\n",
    "##### 请根据你的选择，在下面的代码框中为 T_n 赋值 'a', 'b', 'c', 或 'd' ，例如：\n",
    "T_n = 'd'"
   ]
  },
  {
   "cell_type": "code",
   "execution_count": null,
   "id": "13e651ed-ad4f-4ebd-9a0e-b6e5cd5ced99",
   "metadata": {
    "deletable": false,
    "nbgrader": {
     "cell_type": "code",
     "checksum": "cc383777aea3042c1a2e534d42f4daa1",
     "grade": false,
     "grade_id": "cell-d1805d4d416844e2",
     "locked": false,
     "schema_version": 3,
     "solution": true,
     "task": false
    }
   },
   "outputs": [],
   "source": [
    "# YOUR CODE HERE\n",
    "T_n = ''"
   ]
  },
  {
   "cell_type": "code",
   "execution_count": null,
   "id": "26c7fbb9-910a-43fb-81ec-ac45f130a485",
   "metadata": {
    "deletable": false,
    "editable": false,
    "nbgrader": {
     "cell_type": "code",
     "checksum": "56eb3b0f1ef6a4f660866780007228c0",
     "grade": true,
     "grade_id": "cell-050ea18bc6c3d329",
     "locked": true,
     "points": 5,
     "schema_version": 3,
     "solution": false,
     "task": false
    }
   },
   "outputs": [],
   "source": [
    "# This test checks that your answer has the right format\n",
    "# It does not check for correctness\n",
    "assert T_n in ['a','b','c','d']\n"
   ]
  }
 ],
 "metadata": {
  "kernelspec": {
   "display_name": "Python 3 (ipykernel)",
   "language": "python",
   "name": "python3"
  },
  "language_info": {
   "codemirror_mode": {
    "name": "ipython",
    "version": 3
   },
   "file_extension": ".py",
   "mimetype": "text/x-python",
   "name": "python",
   "nbconvert_exporter": "python",
   "pygments_lexer": "ipython3",
   "version": "3.10.9"
  }
 },
 "nbformat": 4,
 "nbformat_minor": 5
}
